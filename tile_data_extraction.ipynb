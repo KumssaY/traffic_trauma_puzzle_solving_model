{
 "cells": [
  {
   "cell_type": "markdown",
   "metadata": {},
   "source": [
    "### Traffic Trauma Puzzle ML solving"
   ]
  },
  {
   "cell_type": "markdown",
   "metadata": {},
   "source": [
    "install all libraries"
   ]
  },
  {
   "cell_type": "code",
   "execution_count": null,
   "metadata": {},
   "outputs": [],
   "source": [
    "!pip install opencv-python-headless matplotlib pandas"
   ]
  },
  {
   "cell_type": "markdown",
   "metadata": {},
   "source": [
    "Then import all libraries"
   ]
  },
  {
   "cell_type": "code",
   "execution_count": 9,
   "metadata": {},
   "outputs": [],
   "source": [
    "import cv2\n",
    "import numpy as np\n",
    "import matplotlib.pyplot as plt\n",
    "import pandas as pd\n",
    "from collections import Counter"
   ]
  },
  {
   "cell_type": "markdown",
   "metadata": {},
   "source": [
    "Load all images and define ROIs and then extract the colors and then the dominant color form each block to avoid input of the background color"
   ]
  },
  {
   "cell_type": "code",
   "execution_count": null,
   "metadata": {},
   "outputs": [],
   "source": [
    "def get_dominant_color(colors):\n",
    "    # Filter out the gray color since it it the background\n",
    "    filtered_colors = [color for color in colors if not np.array_equal(color, [115, 115, 115])]\n",
    "    \n",
    "    if filtered_colors:\n",
    "        # Count the occurrence of each color\n",
    "        color_counts = Counter(tuple(color) for color in filtered_colors)\n",
    "        # Return the most common color\n",
    "        return np.array(color_counts.most_common(1)[0][0])\n",
    "    else:\n",
    "        return None\n",
    "\n",
    "# save the colors in a list for the tiles\n",
    "dominant_colors = []\n",
    "\n",
    "# Load all tile images and mark the ROIs for visibility\n",
    "tile_images = []\n",
    "for i in range(1, 17):\n",
    "    image_path = f\"data/images/tile{i}.jpg\"\n",
    "    img = cv2.imread(image_path)\n",
    "    \n",
    "    if img is None:\n",
    "        print(f\"Failed to load image {image_path}\")\n",
    "    else:\n",
    "        img_rgb = cv2.cvtColor(img, cv2.COLOR_BGR2RGB)  # Convert from BGR to RGB\n",
    "        tile_images.append(img_rgb)  # add the image to the list\n",
    "        \n",
    "        height, width, _ = img_rgb.shape\n",
    "        \n",
    "        # Define the region of interest (ROI) for the top block\n",
    "        # define the approximate size of the rectangle blocks representing cars\n",
    "        block_height = int(height * 0.1)\n",
    "        block_width = int(width * 0.3)\n",
    "        \n",
    "        # Top block\n",
    "        top_left_x = int(width / 2 - block_width / 2)\n",
    "        top_left_y = int(height * 0.05)\n",
    "        bottom_right_x = top_left_x + block_width\n",
    "        bottom_right_y = top_left_y + block_height\n",
    "        cv2.rectangle(img_rgb, (top_left_x, top_left_y), (bottom_right_x, bottom_right_y), (0, 0, 255), 2)\n",
    "        \n",
    "        # Bottom block\n",
    "        bottom_left_x = int(width / 2 - block_width / 2)\n",
    "        bottom_left_y = int(height * 0.85)\n",
    "        bottom_right_x = bottom_left_x + block_width\n",
    "        bottom_right_y = bottom_left_y + block_height\n",
    "        cv2.rectangle(img_rgb, (bottom_left_x, bottom_left_y), (bottom_right_x, bottom_right_y), (0, 0, 255), 2)\n",
    "        \n",
    "        # Left block\n",
    "        block_height_left_right = int(height * 0.3)\n",
    "        block_width_left_right = int(width * 0.1)\n",
    "        left_top_x = int(width * 0.05)\n",
    "        left_top_y = int(height / 2 - block_height_left_right / 2)\n",
    "        right_bottom_x = left_top_x + block_width_left_right\n",
    "        right_bottom_y = left_top_y + block_height_left_right\n",
    "        cv2.rectangle(img_rgb, (left_top_x, left_top_y), (right_bottom_x, right_bottom_y), (0, 0, 255), 2)\n",
    "        \n",
    "        # Right block\n",
    "        right_top_x = int(width * 0.85)\n",
    "        right_top_y = int(height / 2 - block_height_left_right / 2)\n",
    "        right_bottom_x = right_top_x + block_width_left_right\n",
    "        right_bottom_y = right_top_y + block_height_left_right\n",
    "        cv2.rectangle(img_rgb, (right_top_x, right_top_y), (right_bottom_x, right_bottom_y), (0, 0, 255), 2)\n",
    "        \n",
    "        # get color data from the blocks\n",
    "        top_block_colors = img_rgb[top_left_y:bottom_right_y, top_left_x:bottom_right_x].reshape(-1, 3)\n",
    "        bottom_block_colors = img_rgb[bottom_left_y:bottom_right_y, bottom_left_x:bottom_right_x].reshape(-1, 3)\n",
    "        left_block_colors = img_rgb[left_top_y:right_bottom_y, left_top_x:right_bottom_x].reshape(-1, 3)\n",
    "        right_block_colors = img_rgb[right_top_y:right_bottom_y, right_top_x:right_bottom_x].reshape(-1, 3)\n",
    "\n",
    "        # Get the dominant colors for each block\n",
    "        dominant_top_color = get_dominant_color(top_block_colors)\n",
    "        dominant_bottom_color = get_dominant_color(bottom_block_colors)\n",
    "        dominant_left_color = get_dominant_color(left_block_colors)\n",
    "        dominant_right_color = get_dominant_color(right_block_colors)\n",
    "\n",
    "        # Store the dominant colors for the tile\n",
    "        dominant_colors.append({\n",
    "            'Tile': f'Tile {i}',\n",
    "            'Top Color': dominant_top_color,\n",
    "            'Bottom Color': dominant_bottom_color,\n",
    "            'Left Color': dominant_left_color,\n",
    "            'Right Color': dominant_right_color\n",
    "        })\n",
    "\n",
    "# Display marked images in a 4x4 grid\n",
    "plt.figure(figsize=(10, 10))  # Set the figure size\n",
    "for i in range(16):\n",
    "    plt.subplot(4, 4, i+1)  # Create a subplot for each image\n",
    "    plt.imshow(tile_images[i])\n",
    "    plt.title(f\"Tile {i+1}\")\n",
    "    plt.axis('off')  # Hide axis\n",
    "\n",
    "plt.tight_layout()  # Adjust layout to prevent overlap\n",
    "plt.show()  # Show all images"
   ]
  },
  {
   "cell_type": "markdown",
   "metadata": {},
   "source": [
    "Output the RGB values"
   ]
  },
  {
   "cell_type": "code",
   "execution_count": null,
   "metadata": {},
   "outputs": [],
   "source": [
    "# Create a DataFrame to store the dominant colors\n",
    "df = pd.DataFrame(dominant_colors)\n",
    "\n",
    "# Save the DataFrame to a CSV file\n",
    "df.to_csv('dominant_colors.csv', index=False)\n",
    "\n",
    "# Display the DataFrame\n",
    "df"
   ]
  },
  {
   "cell_type": "markdown",
   "metadata": {},
   "source": [
    "Map RGB values to human readable color names"
   ]
  },
  {
   "cell_type": "code",
   "execution_count": null,
   "metadata": {},
   "outputs": [],
   "source": [
    "# Function to map RGB values to color names\n",
    "def rgb_to_color_name(rgb):\n",
    "    color_mapping = {\n",
    "        (0, 0, 0): \"Black\",\n",
    "        (255, 255, 255): \"White\",\n",
    "        (255, 255, 0): \"Yellow\",\n",
    "        (255, 104, 31): \"Orange\",\n",
    "        (0, 128, 1): \"Green\",\n",
    "        (254, 0, 0): \"Red\",\n",
    "        (175, 44, 172): \"Violet\",\n",
    "        (75, 0, 129): \"Indigo\"\n",
    "    }\n",
    "    \n",
    "    # Convert the string representation of RGB array into a tuple\n",
    "    rgb = rgb.replace(\"[\", \"\").replace(\"]\", \"\").split()\n",
    "    rgb_tuple = tuple(map(int, rgb))\n",
    "    \n",
    "    return color_mapping.get(rgb_tuple, \"Unknown\")\n",
    "\n",
    "# Create a new list to store the mapped data\n",
    "dominant_colors_named = []\n",
    "\n",
    "# Convert the RGB values to human-readable names\n",
    "for index, row in df.iterrows():\n",
    "    dominant_colors_named.append({\n",
    "        'Tile': row['Tile'],\n",
    "        'Top Color': rgb_to_color_name(str(row['Top Color'])),\n",
    "        'Bottom Color': rgb_to_color_name(str(row['Bottom Color'])),\n",
    "        'Left Color': rgb_to_color_name(str(row['Left Color'])),\n",
    "        'Right Color': rgb_to_color_name(str(row['Right Color']))\n",
    "    })\n",
    "\n",
    "# Create a DataFrame with color names\n",
    "df_named = pd.DataFrame(dominant_colors_named)\n",
    "\n",
    "# Save the new DataFrame to a CSV file\n",
    "df_named.to_csv('dominant_colors_named.csv', index=False)\n",
    "\n",
    "# Display the DataFrame with color names\n",
    "df_named"
   ]
  }
 ],
 "metadata": {
  "kernelspec": {
   "display_name": ".venv",
   "language": "python",
   "name": "python3"
  },
  "language_info": {
   "codemirror_mode": {
    "name": "ipython",
    "version": 3
   },
   "file_extension": ".py",
   "mimetype": "text/x-python",
   "name": "python",
   "nbconvert_exporter": "python",
   "pygments_lexer": "ipython3",
   "version": "3.12.6"
  }
 },
 "nbformat": 4,
 "nbformat_minor": 2
}
